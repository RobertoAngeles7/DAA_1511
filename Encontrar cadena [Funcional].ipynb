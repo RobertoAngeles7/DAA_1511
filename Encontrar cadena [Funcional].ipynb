{
 "cells": [
  {
   "cell_type": "code",
   "execution_count": 8,
   "metadata": {},
   "outputs": [
    {
     "name": "stdout",
     "output_type": "stream",
     "text": [
      "Cadena encontrada en la posición:  268\n"
     ]
    }
   ],
   "source": [
    "s = '1110010001101110100011001111000110001110001110001110100011010001110001110001110001110001110001110001110001110001110001110001110001110001110001110001110001110001110001110001110001110001110001110001110001110001110001110001110001110001110001110001110001110001101000111110101010100111100011000'\n",
    "c = '1010101'\n",
    "print(\"Cadena encontrada en la posición: \", s.rfind(c))"
   ]
  }
 ],
 "metadata": {
  "kernelspec": {
   "display_name": "Python 3.10.7 64-bit (microsoft store)",
   "language": "python",
   "name": "python3"
  },
  "language_info": {
   "codemirror_mode": {
    "name": "ipython",
    "version": 3
   },
   "file_extension": ".py",
   "mimetype": "text/x-python",
   "name": "python",
   "nbconvert_exporter": "python",
   "pygments_lexer": "ipython3",
   "version": "3.10.7"
  },
  "orig_nbformat": 4,
  "vscode": {
   "interpreter": {
    "hash": "94f9c382dd50ef9b626dcd4e7359099ef42f06233aa06c3b84bc61414553ad56"
   }
  }
 },
 "nbformat": 4,
 "nbformat_minor": 2
}

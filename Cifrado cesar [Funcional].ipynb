{
 "cells": [
  {
   "cell_type": "code",
   "execution_count": 32,
   "metadata": {},
   "outputs": [
    {
     "name": "stdout",
     "output_type": "stream",
     "text": [
      "Texto cifrado: Si Cupdmzaplil Uikpwuis Icbwuwti lm Tmfpkw oi lmamtxmvilw cu xixms xzwbiñwupkw mu si opabwzpi g mu si nwztikpwu lm ucmabzw xipa. Sia bizmia acabiubpdia lm mabi puabpbckpwu xcjspki, icbwuwti g sipki awu si lwkmukpi, si pudmabpñikpwu g si lpncapwu lm si kcsbczi. Mu ms tculw ikilmtpkw ma zmkwuwkpli kwtw cui cupdmzaplil lm mfkmsmukpi. Si CUIT zmaxwulm is xzmamubm g tpzi ms ncbczw kwtw ms xzwgmkbw kcsbczis tia ptxwzbiubm lm Tmfpkw. Si CUIT ma cu maxikpw lm spjmzbilma. Mu mssi am xzikbpki kwbplpiuitmubm ms zmaxmbw, si bwsmziukpi g ms lpiswñw. Si xsczisplil lm plmia g lm xmuaitpmubw ma ixzmkpili kwtw apñuw lm ac zpycmhi g ucuki kwtw nikbwz lm lmjpsplil.\n",
      "Texto descifrado: LA UNIVERSIDAD NACIONAL AUTONOMA DE MEXICO HA DESEMPEÑADO UN PAPEL PROTAGONICO EN LA HISTORIA Y EN LA FORMACION DE NUESTRO PAIS. LAS TAREAS SUSTANTIVAS DE ESTA INSTITUCION PUBLICA, AUTONOMA Y LAICA SON LA DOCENCIA, LA INVESTIGACION Y LA DIFUSION DE LA CULTURA. EN EL MUNDO ACADEMICO ES RECONOCIDA COMO UNA UNIVERSIDAD DE EXCELENCIA. LA UNAM RESPONDE AL PRESENTE Y MIRA EL FUTURO COMO EL PROYECTO CULTURAL MAS IMPORTANTE DE MEXICO. LA UNAM ES UN ESPACIO DE LIBERTADES. EN ELLA SE PRACTICA COTIDIANAMENTE EL RESPETO, LA TOLERANCIA Y EL DIALOGO. LA PLURALIDAD DE IDEAS Y DE PENSAMIENTO ES APRECIADA COMO SIGNO DE SU RIQUEZA Y NUNCA COMO FACTOR DE DEBILIDAD.\n"
     ]
    }
   ],
   "source": [
    "def descifrado_cesar():\n",
    "    alfabeto = \"ABCDEFGHIJKLMNÑOPQRSTUVWXYZ\"\n",
    "    texto_inicial = input(\"Ingrese el texto para descifrar: \")\n",
    "    rotaciones = 8\n",
    "    texto_cifrado = \"\"\n",
    "\n",
    "    for i in texto_inicial.upper():\n",
    "        if i in alfabeto:\n",
    "            posicion = alfabeto.index(i)\n",
    "            posicion = (posicion - int(rotaciones))\n",
    "            posicion % len(alfabeto)\n",
    "            texto_cifrado += alfabeto[posicion]\n",
    "\n",
    "        else:\n",
    "            texto_cifrado += i\n",
    "\n",
    "    if 0 < rotaciones <= 27:\n",
    "        print(\"Texto cifrado: \" + (texto_inicial))\n",
    "        print(\"Texto descifrado: \" + (texto_cifrado))\n",
    "        \n",
    "descifrado_cesar()\n",
    "    "
   ]
  }
 ],
 "metadata": {
  "kernelspec": {
   "display_name": "Python 3.10.7 64-bit",
   "language": "python",
   "name": "python3"
  },
  "language_info": {
   "codemirror_mode": {
    "name": "ipython",
    "version": 3
   },
   "file_extension": ".py",
   "mimetype": "text/x-python",
   "name": "python",
   "nbconvert_exporter": "python",
   "pygments_lexer": "ipython3",
   "version": "3.10.7"
  },
  "orig_nbformat": 4,
  "vscode": {
   "interpreter": {
    "hash": "a7dbb88c84ecda04e2dfa8176cb6708abf8c95c32934f510df16d1a1f4945387"
   }
  }
 },
 "nbformat": 4,
 "nbformat_minor": 2
}
